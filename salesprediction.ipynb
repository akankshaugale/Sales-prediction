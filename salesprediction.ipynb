{
 "cells": [
  {
   "cell_type": "code",
   "execution_count": 1,
   "metadata": {
    "executionInfo": {
     "elapsed": 1964,
     "status": "ok",
     "timestamp": 1666347104147,
     "user": {
      "displayName": "Akanksha Ugale",
      "userId": "02088164551666559591"
     },
     "user_tz": -330
    },
    "id": "Tl_Rb8hVZqXg"
   },
   "outputs": [],
   "source": [
    "import numpy as np\n",
    "import pandas as pd\n",
    "import matplotlib.pyplot as plt\n",
    "import seaborn as sns"
   ]
  },
  {
   "cell_type": "code",
   "execution_count": 2,
   "metadata": {
    "executionInfo": {
     "elapsed": 12,
     "status": "ok",
     "timestamp": 1666347104149,
     "user": {
      "displayName": "Akanksha Ugale",
      "userId": "02088164551666559591"
     },
     "user_tz": -330
    },
    "id": "nB8vgZeGaIYO"
   },
   "outputs": [],
   "source": [
    "sales = pd.read_csv('advertising.csv')"
   ]
  },
  {
   "cell_type": "code",
   "execution_count": 3,
   "metadata": {
    "colab": {
     "base_uri": "https://localhost:8080/",
     "height": 206
    },
    "executionInfo": {
     "elapsed": 12,
     "status": "ok",
     "timestamp": 1666347104150,
     "user": {
      "displayName": "Akanksha Ugale",
      "userId": "02088164551666559591"
     },
     "user_tz": -330
    },
    "id": "rI9xwOefah4l",
    "outputId": "ce520321-ae0a-4198-cd4b-33605b451ce0"
   },
   "outputs": [
    {
     "data": {
      "text/html": [
       "<div>\n",
       "<style scoped>\n",
       "    .dataframe tbody tr th:only-of-type {\n",
       "        vertical-align: middle;\n",
       "    }\n",
       "\n",
       "    .dataframe tbody tr th {\n",
       "        vertical-align: top;\n",
       "    }\n",
       "\n",
       "    .dataframe thead th {\n",
       "        text-align: right;\n",
       "    }\n",
       "</style>\n",
       "<table border=\"1\" class=\"dataframe\">\n",
       "  <thead>\n",
       "    <tr style=\"text-align: right;\">\n",
       "      <th></th>\n",
       "      <th>TV</th>\n",
       "      <th>Radio</th>\n",
       "      <th>Newspaper</th>\n",
       "      <th>Sales</th>\n",
       "    </tr>\n",
       "  </thead>\n",
       "  <tbody>\n",
       "    <tr>\n",
       "      <th>0</th>\n",
       "      <td>230.1</td>\n",
       "      <td>37.8</td>\n",
       "      <td>69.2</td>\n",
       "      <td>22.1</td>\n",
       "    </tr>\n",
       "    <tr>\n",
       "      <th>1</th>\n",
       "      <td>44.5</td>\n",
       "      <td>39.3</td>\n",
       "      <td>45.1</td>\n",
       "      <td>10.4</td>\n",
       "    </tr>\n",
       "    <tr>\n",
       "      <th>2</th>\n",
       "      <td>17.2</td>\n",
       "      <td>45.9</td>\n",
       "      <td>69.3</td>\n",
       "      <td>12.0</td>\n",
       "    </tr>\n",
       "    <tr>\n",
       "      <th>3</th>\n",
       "      <td>151.5</td>\n",
       "      <td>41.3</td>\n",
       "      <td>58.5</td>\n",
       "      <td>16.5</td>\n",
       "    </tr>\n",
       "    <tr>\n",
       "      <th>4</th>\n",
       "      <td>180.8</td>\n",
       "      <td>10.8</td>\n",
       "      <td>58.4</td>\n",
       "      <td>17.9</td>\n",
       "    </tr>\n",
       "  </tbody>\n",
       "</table>\n",
       "</div>"
      ],
      "text/plain": [
       "      TV  Radio  Newspaper  Sales\n",
       "0  230.1   37.8       69.2   22.1\n",
       "1   44.5   39.3       45.1   10.4\n",
       "2   17.2   45.9       69.3   12.0\n",
       "3  151.5   41.3       58.5   16.5\n",
       "4  180.8   10.8       58.4   17.9"
      ]
     },
     "execution_count": 3,
     "metadata": {},
     "output_type": "execute_result"
    }
   ],
   "source": [
    "sales.head()"
   ]
  },
  {
   "cell_type": "code",
   "execution_count": 4,
   "metadata": {
    "colab": {
     "base_uri": "https://localhost:8080/",
     "height": 206
    },
    "executionInfo": {
     "elapsed": 21,
     "status": "ok",
     "timestamp": 1666347106019,
     "user": {
      "displayName": "Akanksha Ugale",
      "userId": "02088164551666559591"
     },
     "user_tz": -330
    },
    "id": "F5SV6pXKbZer",
    "outputId": "9b9c6a18-f3a3-44d1-a869-d3128d96faac"
   },
   "outputs": [
    {
     "data": {
      "text/html": [
       "<div>\n",
       "<style scoped>\n",
       "    .dataframe tbody tr th:only-of-type {\n",
       "        vertical-align: middle;\n",
       "    }\n",
       "\n",
       "    .dataframe tbody tr th {\n",
       "        vertical-align: top;\n",
       "    }\n",
       "\n",
       "    .dataframe thead th {\n",
       "        text-align: right;\n",
       "    }\n",
       "</style>\n",
       "<table border=\"1\" class=\"dataframe\">\n",
       "  <thead>\n",
       "    <tr style=\"text-align: right;\">\n",
       "      <th></th>\n",
       "      <th>TV</th>\n",
       "      <th>Radio</th>\n",
       "      <th>Newspaper</th>\n",
       "      <th>Sales</th>\n",
       "    </tr>\n",
       "  </thead>\n",
       "  <tbody>\n",
       "    <tr>\n",
       "      <th>195</th>\n",
       "      <td>38.2</td>\n",
       "      <td>3.7</td>\n",
       "      <td>13.8</td>\n",
       "      <td>7.6</td>\n",
       "    </tr>\n",
       "    <tr>\n",
       "      <th>196</th>\n",
       "      <td>94.2</td>\n",
       "      <td>4.9</td>\n",
       "      <td>8.1</td>\n",
       "      <td>14.0</td>\n",
       "    </tr>\n",
       "    <tr>\n",
       "      <th>197</th>\n",
       "      <td>177.0</td>\n",
       "      <td>9.3</td>\n",
       "      <td>6.4</td>\n",
       "      <td>14.8</td>\n",
       "    </tr>\n",
       "    <tr>\n",
       "      <th>198</th>\n",
       "      <td>283.6</td>\n",
       "      <td>42.0</td>\n",
       "      <td>66.2</td>\n",
       "      <td>25.5</td>\n",
       "    </tr>\n",
       "    <tr>\n",
       "      <th>199</th>\n",
       "      <td>232.1</td>\n",
       "      <td>8.6</td>\n",
       "      <td>8.7</td>\n",
       "      <td>18.4</td>\n",
       "    </tr>\n",
       "  </tbody>\n",
       "</table>\n",
       "</div>"
      ],
      "text/plain": [
       "        TV  Radio  Newspaper  Sales\n",
       "195   38.2    3.7       13.8    7.6\n",
       "196   94.2    4.9        8.1   14.0\n",
       "197  177.0    9.3        6.4   14.8\n",
       "198  283.6   42.0       66.2   25.5\n",
       "199  232.1    8.6        8.7   18.4"
      ]
     },
     "execution_count": 4,
     "metadata": {},
     "output_type": "execute_result"
    }
   ],
   "source": [
    "sales.tail()"
   ]
  },
  {
   "cell_type": "code",
   "execution_count": 5,
   "metadata": {
    "colab": {
     "base_uri": "https://localhost:8080/"
    },
    "executionInfo": {
     "elapsed": 14,
     "status": "ok",
     "timestamp": 1666347106805,
     "user": {
      "displayName": "Akanksha Ugale",
      "userId": "02088164551666559591"
     },
     "user_tz": -330
    },
    "id": "Et3Vuc9YccPq",
    "outputId": "f9c79468-2ee4-4453-fd10-56a4dc604201"
   },
   "outputs": [
    {
     "data": {
      "text/plain": [
       "(200, 4)"
      ]
     },
     "execution_count": 5,
     "metadata": {},
     "output_type": "execute_result"
    }
   ],
   "source": [
    "sales.shape"
   ]
  },
  {
   "cell_type": "code",
   "execution_count": 6,
   "metadata": {
    "colab": {
     "base_uri": "https://localhost:8080/"
    },
    "executionInfo": {
     "elapsed": 10,
     "status": "ok",
     "timestamp": 1666347107245,
     "user": {
      "displayName": "Akanksha Ugale",
      "userId": "02088164551666559591"
     },
     "user_tz": -330
    },
    "id": "UBdGqRkmceuu",
    "outputId": "cdda8d1c-bdb5-4b0e-d37d-8c03cb246530"
   },
   "outputs": [
    {
     "data": {
      "text/plain": [
       "800"
      ]
     },
     "execution_count": 6,
     "metadata": {},
     "output_type": "execute_result"
    }
   ],
   "source": [
    "sales.size"
   ]
  },
  {
   "cell_type": "code",
   "execution_count": 7,
   "metadata": {
    "colab": {
     "base_uri": "https://localhost:8080/"
    },
    "executionInfo": {
     "elapsed": 9,
     "status": "ok",
     "timestamp": 1666347107247,
     "user": {
      "displayName": "Akanksha Ugale",
      "userId": "02088164551666559591"
     },
     "user_tz": -330
    },
    "id": "tu7Jhl8jchqx",
    "outputId": "2f2ad57a-1db4-40d2-eb06-f05b64bce357"
   },
   "outputs": [
    {
     "data": {
      "text/plain": [
       "TV           0\n",
       "Radio        0\n",
       "Newspaper    0\n",
       "Sales        0\n",
       "dtype: int64"
      ]
     },
     "execution_count": 7,
     "metadata": {},
     "output_type": "execute_result"
    }
   ],
   "source": [
    "sales.isna().sum()"
   ]
  },
  {
   "cell_type": "markdown",
   "metadata": {
    "id": "QcoErH7ScmqZ"
   },
   "source": [
    "# data does not have any missing values"
   ]
  },
  {
   "cell_type": "markdown",
   "metadata": {
    "id": "LsXMQVFib7Ox"
   },
   "source": [
    "# Find out the media which is best for advertising, that gives more sales"
   ]
  },
  {
   "cell_type": "markdown",
   "metadata": {
    "id": "jNqBZFRecrGF"
   },
   "source": [
    "# 2. checking for duplicates\n"
   ]
  },
  {
   "cell_type": "code",
   "execution_count": 8,
   "metadata": {
    "colab": {
     "base_uri": "https://localhost:8080/"
    },
    "executionInfo": {
     "elapsed": 89,
     "status": "ok",
     "timestamp": 1666347107944,
     "user": {
      "displayName": "Akanksha Ugale",
      "userId": "02088164551666559591"
     },
     "user_tz": -330
    },
    "id": "PkYC4wFPcvwo",
    "outputId": "7583540d-dcc4-43a6-b211-4e23fb1be706"
   },
   "outputs": [
    {
     "data": {
      "text/plain": [
       "False"
      ]
     },
     "execution_count": 8,
     "metadata": {},
     "output_type": "execute_result"
    }
   ],
   "source": [
    "sales.duplicated().any()"
   ]
  },
  {
   "cell_type": "markdown",
   "metadata": {
    "id": "_Kwe8Qk3c0ZG"
   },
   "source": [
    "# 3. Checking outliers\n",
    "There are not extreme values present in dataset"
   ]
  },
  {
   "cell_type": "code",
   "execution_count": 9,
   "metadata": {
    "colab": {
     "base_uri": "https://localhost:8080/"
    },
    "executionInfo": {
     "elapsed": 35,
     "status": "ok",
     "timestamp": 1666347108547,
     "user": {
      "displayName": "Akanksha Ugale",
      "userId": "02088164551666559591"
     },
     "user_tz": -330
    },
    "id": "A9PMlaRTbddP",
    "outputId": "f006094e-460d-43de-fc36-4d4a02196760"
   },
   "outputs": [
    {
     "name": "stdout",
     "output_type": "stream",
     "text": [
      "<class 'pandas.core.frame.DataFrame'>\n",
      "RangeIndex: 200 entries, 0 to 199\n",
      "Data columns (total 4 columns):\n",
      " #   Column     Non-Null Count  Dtype  \n",
      "---  ------     --------------  -----  \n",
      " 0   TV         200 non-null    float64\n",
      " 1   Radio      200 non-null    float64\n",
      " 2   Newspaper  200 non-null    float64\n",
      " 3   Sales      200 non-null    float64\n",
      "dtypes: float64(4)\n",
      "memory usage: 6.4 KB\n"
     ]
    }
   ],
   "source": [
    "sales.info()"
   ]
  },
  {
   "cell_type": "code",
   "execution_count": 10,
   "metadata": {
    "colab": {
     "base_uri": "https://localhost:8080/",
     "height": 300
    },
    "executionInfo": {
     "elapsed": 31,
     "status": "ok",
     "timestamp": 1666347108555,
     "user": {
      "displayName": "Akanksha Ugale",
      "userId": "02088164551666559591"
     },
     "user_tz": -330
    },
    "id": "2xMmfTEge5R1",
    "outputId": "77e29f73-9eba-45e7-bb00-75ede0a5c569"
   },
   "outputs": [
    {
     "data": {
      "text/html": [
       "<div>\n",
       "<style scoped>\n",
       "    .dataframe tbody tr th:only-of-type {\n",
       "        vertical-align: middle;\n",
       "    }\n",
       "\n",
       "    .dataframe tbody tr th {\n",
       "        vertical-align: top;\n",
       "    }\n",
       "\n",
       "    .dataframe thead th {\n",
       "        text-align: right;\n",
       "    }\n",
       "</style>\n",
       "<table border=\"1\" class=\"dataframe\">\n",
       "  <thead>\n",
       "    <tr style=\"text-align: right;\">\n",
       "      <th></th>\n",
       "      <th>TV</th>\n",
       "      <th>Radio</th>\n",
       "      <th>Newspaper</th>\n",
       "      <th>Sales</th>\n",
       "    </tr>\n",
       "  </thead>\n",
       "  <tbody>\n",
       "    <tr>\n",
       "      <th>count</th>\n",
       "      <td>200.000000</td>\n",
       "      <td>200.000000</td>\n",
       "      <td>200.000000</td>\n",
       "      <td>200.000000</td>\n",
       "    </tr>\n",
       "    <tr>\n",
       "      <th>mean</th>\n",
       "      <td>147.042500</td>\n",
       "      <td>23.264000</td>\n",
       "      <td>30.554000</td>\n",
       "      <td>15.130500</td>\n",
       "    </tr>\n",
       "    <tr>\n",
       "      <th>std</th>\n",
       "      <td>85.854236</td>\n",
       "      <td>14.846809</td>\n",
       "      <td>21.778621</td>\n",
       "      <td>5.283892</td>\n",
       "    </tr>\n",
       "    <tr>\n",
       "      <th>min</th>\n",
       "      <td>0.700000</td>\n",
       "      <td>0.000000</td>\n",
       "      <td>0.300000</td>\n",
       "      <td>1.600000</td>\n",
       "    </tr>\n",
       "    <tr>\n",
       "      <th>25%</th>\n",
       "      <td>74.375000</td>\n",
       "      <td>9.975000</td>\n",
       "      <td>12.750000</td>\n",
       "      <td>11.000000</td>\n",
       "    </tr>\n",
       "    <tr>\n",
       "      <th>50%</th>\n",
       "      <td>149.750000</td>\n",
       "      <td>22.900000</td>\n",
       "      <td>25.750000</td>\n",
       "      <td>16.000000</td>\n",
       "    </tr>\n",
       "    <tr>\n",
       "      <th>75%</th>\n",
       "      <td>218.825000</td>\n",
       "      <td>36.525000</td>\n",
       "      <td>45.100000</td>\n",
       "      <td>19.050000</td>\n",
       "    </tr>\n",
       "    <tr>\n",
       "      <th>max</th>\n",
       "      <td>296.400000</td>\n",
       "      <td>49.600000</td>\n",
       "      <td>114.000000</td>\n",
       "      <td>27.000000</td>\n",
       "    </tr>\n",
       "  </tbody>\n",
       "</table>\n",
       "</div>"
      ],
      "text/plain": [
       "               TV       Radio   Newspaper       Sales\n",
       "count  200.000000  200.000000  200.000000  200.000000\n",
       "mean   147.042500   23.264000   30.554000   15.130500\n",
       "std     85.854236   14.846809   21.778621    5.283892\n",
       "min      0.700000    0.000000    0.300000    1.600000\n",
       "25%     74.375000    9.975000   12.750000   11.000000\n",
       "50%    149.750000   22.900000   25.750000   16.000000\n",
       "75%    218.825000   36.525000   45.100000   19.050000\n",
       "max    296.400000   49.600000  114.000000   27.000000"
      ]
     },
     "execution_count": 10,
     "metadata": {},
     "output_type": "execute_result"
    }
   ],
   "source": [
    "sales.describe()"
   ]
  },
  {
   "cell_type": "code",
   "execution_count": 11,
   "metadata": {
    "colab": {
     "base_uri": "https://localhost:8080/",
     "height": 175
    },
    "executionInfo": {
     "elapsed": 11,
     "status": "ok",
     "timestamp": 1666347109577,
     "user": {
      "displayName": "Akanksha Ugale",
      "userId": "02088164551666559591"
     },
     "user_tz": -330
    },
    "id": "3wBbk4gMbf-p",
    "outputId": "09e2a8c4-8144-4334-b971-91c3122e5299"
   },
   "outputs": [
    {
     "data": {
      "text/html": [
       "<div>\n",
       "<style scoped>\n",
       "    .dataframe tbody tr th:only-of-type {\n",
       "        vertical-align: middle;\n",
       "    }\n",
       "\n",
       "    .dataframe tbody tr th {\n",
       "        vertical-align: top;\n",
       "    }\n",
       "\n",
       "    .dataframe thead th {\n",
       "        text-align: right;\n",
       "    }\n",
       "</style>\n",
       "<table border=\"1\" class=\"dataframe\">\n",
       "  <thead>\n",
       "    <tr style=\"text-align: right;\">\n",
       "      <th></th>\n",
       "      <th>TV</th>\n",
       "      <th>Radio</th>\n",
       "      <th>Newspaper</th>\n",
       "      <th>Sales</th>\n",
       "    </tr>\n",
       "  </thead>\n",
       "  <tbody>\n",
       "    <tr>\n",
       "      <th>TV</th>\n",
       "      <td>1.000000</td>\n",
       "      <td>0.054809</td>\n",
       "      <td>0.056648</td>\n",
       "      <td>0.901208</td>\n",
       "    </tr>\n",
       "    <tr>\n",
       "      <th>Radio</th>\n",
       "      <td>0.054809</td>\n",
       "      <td>1.000000</td>\n",
       "      <td>0.354104</td>\n",
       "      <td>0.349631</td>\n",
       "    </tr>\n",
       "    <tr>\n",
       "      <th>Newspaper</th>\n",
       "      <td>0.056648</td>\n",
       "      <td>0.354104</td>\n",
       "      <td>1.000000</td>\n",
       "      <td>0.157960</td>\n",
       "    </tr>\n",
       "    <tr>\n",
       "      <th>Sales</th>\n",
       "      <td>0.901208</td>\n",
       "      <td>0.349631</td>\n",
       "      <td>0.157960</td>\n",
       "      <td>1.000000</td>\n",
       "    </tr>\n",
       "  </tbody>\n",
       "</table>\n",
       "</div>"
      ],
      "text/plain": [
       "                 TV     Radio  Newspaper     Sales\n",
       "TV         1.000000  0.054809   0.056648  0.901208\n",
       "Radio      0.054809  1.000000   0.354104  0.349631\n",
       "Newspaper  0.056648  0.354104   1.000000  0.157960\n",
       "Sales      0.901208  0.349631   0.157960  1.000000"
      ]
     },
     "execution_count": 11,
     "metadata": {},
     "output_type": "execute_result"
    }
   ],
   "source": [
    "sales.corr()"
   ]
  },
  {
   "cell_type": "markdown",
   "metadata": {
    "id": "PAxv9GUXdELw"
   },
   "source": [
    "# EDA"
   ]
  },
  {
   "cell_type": "code",
   "execution_count": 12,
   "metadata": {
    "colab": {
     "base_uri": "https://localhost:8080/",
     "height": 334
    },
    "executionInfo": {
     "elapsed": 775,
     "status": "ok",
     "timestamp": 1666347112378,
     "user": {
      "displayName": "Akanksha Ugale",
      "userId": "02088164551666559591"
     },
     "user_tz": -330
    },
    "id": "bm45xIh3cGzQ",
    "outputId": "de092b09-07da-4220-f43e-0379f1e07526"
   },
   "outputs": [
    {
     "name": "stderr",
     "output_type": "stream",
     "text": [
      "C:\\Users\\Admin\\anaconda3\\lib\\site-packages\\seaborn\\distributions.py:2619: FutureWarning: `distplot` is a deprecated function and will be removed in a future version. Please adapt your code to use either `displot` (a figure-level function with similar flexibility) or `histplot` (an axes-level function for histograms).\n",
      "  warnings.warn(msg, FutureWarning)\n"
     ]
    },
    {
     "data": {
      "image/png": "[encoded data removed]",
      "text/plain": [
       "<Figure size 640x480 with 1 Axes>"
      ]
     },
     "metadata": {},
     "output_type": "display_data"
    }
   ],
   "source": [
    "sns.distplot(sales['Sales']);"
   ]
  },
  {
   "cell_type": "markdown",
   "metadata": {
    "id": "O-2RDtjgdTAr"
   },
   "source": [
    "It is normally distributed"
   ]
  },
  {
   "cell_type": "code",
   "execution_count": 13,
   "metadata": {
    "colab": {
     "base_uri": "https://localhost:8080/",
     "height": 960
    },
    "executionInfo": {
     "elapsed": 8764,
     "status": "ok",
     "timestamp": 1666347121745,
     "user": {
      "displayName": "Akanksha Ugale",
      "userId": "02088164551666559591"
     },
     "user_tz": -330
    },
    "id": "A1x6lzQMdIXY",
    "outputId": "92c6c170-6ba9-4c17-c4c6-af9d5ddbfe3e"
   },
   "outputs": [
    {
     "data": {
      "image/png": "[encoded data removed]",
      "text/plain": [
       "<Figure size 1600x1600 with 20 Axes>"
      ]
     },
     "metadata": {},
     "output_type": "display_data"
    }
   ],
   "source": [
    "sns.pairplot(sales,height = 4,aspect=1);"
   ]
  },
  {
   "cell_type": "markdown",
   "metadata": {
    "id": "Z5jvwPKKdi_0"
   },
   "source": [
    "1 parameter should be linear to the other\n"
   ]
  },
  {
   "cell_type": "code",
   "execution_count": 14,
   "metadata": {
    "colab": {
     "base_uri": "https://localhost:8080/",
     "height": 269
    },
    "executionInfo": {
     "elapsed": 669,
     "status": "ok",
     "timestamp": 1666347122406,
     "user": {
      "displayName": "Akanksha Ugale",
      "userId": "02088164551666559591"
     },
     "user_tz": -330
    },
    "id": "D_qzg93mda4W",
    "outputId": "12db4c9d-42ed-4dca-bfe7-21bd885790a0"
   },
   "outputs": [
    {
     "data": {
      "image/png": "[encoded data removed]",
      "text/plain": [
       "<Figure size 640x480 with 2 Axes>"
      ]
     },
     "metadata": {},
     "output_type": "display_data"
    }
   ],
   "source": [
    "sns.heatmap(sales.corr(),annot = True);"
   ]
  },
  {
   "cell_type": "markdown",
   "metadata": {
    "id": "CYR-wIVMeSdr"
   },
   "source": [
    "Conclusion: TV seems to be most correlated with sales as 0.9 is very close to 1"
   ]
  },
  {
   "cell_type": "markdown",
   "metadata": {
    "id": "TwQvG2mkejSG"
   },
   "source": [
    "# Model Building"
   ]
  },
  {
   "cell_type": "markdown",
   "metadata": {
    "id": "bNTTCtQbetya"
   },
   "source": [
    "TV will be X data and Y will be sales ie. target column"
   ]
  },
  {
   "cell_type": "code",
   "execution_count": 15,
   "metadata": {
    "executionInfo": {
     "elapsed": 24,
     "status": "ok",
     "timestamp": 1666347122410,
     "user": {
      "displayName": "Akanksha Ugale",
      "userId": "02088164551666559591"
     },
     "user_tz": -330
    },
    "id": "Np5p0Zu7dw2n"
   },
   "outputs": [],
   "source": [
    "from sklearn.model_selection import train_test_split\n",
    "from sklearn.linear_model import LinearRegression\n",
    "from sklearn import metrics"
   ]
  },
  {
   "cell_type": "code",
   "execution_count": 16,
   "metadata": {
    "executionInfo": {
     "elapsed": 25,
     "status": "ok",
     "timestamp": 1666347122412,
     "user": {
      "displayName": "Akanksha Ugale",
      "userId": "02088164551666559591"
     },
     "user_tz": -330
    },
    "id": "ChY5y8PQfWUx"
   },
   "outputs": [],
   "source": [
    "#Step 1: select dependent and independent variables (ie. x and y)\n",
    "#setting the value for x and y\n",
    "#x = sales['TV'].values.reshape(-1,1)\n",
    "x = sales[['TV']]\n",
    "y = sales['Sales']"
   ]
  },
  {
   "cell_type": "code",
   "execution_count": 17,
   "metadata": {
    "executionInfo": {
     "elapsed": 25,
     "status": "ok",
     "timestamp": 1666347122413,
     "user": {
      "displayName": "Akanksha Ugale",
      "userId": "02088164551666559591"
     },
     "user_tz": -330
    },
    "id": "yjqx6Uv6fhO3"
   },
   "outputs": [],
   "source": [
    "#Step 2: bifurcation of data into train and test data\n",
    "x_train,x_test,y_train,y_test = train_test_split(x,y,train_size=0.8,random_state=100)"
   ]
  },
  {
   "cell_type": "code",
   "execution_count": 18,
   "metadata": {
    "executionInfo": {
     "elapsed": 26,
     "status": "ok",
     "timestamp": 1666347122415,
     "user": {
      "displayName": "Akanksha Ugale",
      "userId": "02088164551666559591"
     },
     "user_tz": -330
    },
    "id": "vYOSMvu1f9V9"
   },
   "outputs": [],
   "source": [
    "# Step 3: Model Instantiation\n",
    "slr=LinearRegression()"
   ]
  },
  {
   "cell_type": "code",
   "execution_count": 19,
   "metadata": {
    "colab": {
     "base_uri": "https://localhost:8080/"
    },
    "executionInfo": {
     "elapsed": 3,
     "status": "ok",
     "timestamp": 1666347122957,
     "user": {
      "displayName": "Akanksha Ugale",
      "userId": "02088164551666559591"
     },
     "user_tz": -330
    },
    "id": "oRQzm85PgoZz",
    "outputId": "5cf59b70-5bc6-42c1-8089-2b6ac9665fcb"
   },
   "outputs": [
    {
     "data": {
      "text/plain": [
       "LinearRegression()"
      ]
     },
     "execution_count": 19,
     "metadata": {},
     "output_type": "execute_result"
    }
   ],
   "source": [
    "# Step 4: fit the model with train data\n",
    "slr.fit(x_train,y_train)"
   ]
  },
  {
   "cell_type": "code",
   "execution_count": 20,
   "metadata": {
    "colab": {
     "base_uri": "https://localhost:8080/"
    },
    "executionInfo": {
     "elapsed": 4,
     "status": "ok",
     "timestamp": 1666347123311,
     "user": {
      "displayName": "Akanksha Ugale",
      "userId": "02088164551666559591"
     },
     "user_tz": -330
    },
    "id": "h82069elhVaA",
    "outputId": "f27bd1a2-ca6c-49e9-eaa3-e86af0dbb4ca"
   },
   "outputs": [
    {
     "name": "stdout",
     "output_type": "stream",
     "text": [
      "Intercept: 6.995532914307688\n",
      "Coefficient: [0.05410548]\n"
     ]
    }
   ],
   "source": [
    "# Printing the model coefficients\n",
    "print('Intercept:',slr.intercept_)\n",
    "print('Coefficient:',slr.coef_)"
   ]
  },
  {
   "cell_type": "code",
   "execution_count": 21,
   "metadata": {
    "colab": {
     "base_uri": "https://localhost:8080/"
    },
    "executionInfo": {
     "elapsed": 10,
     "status": "ok",
     "timestamp": 1666347124781,
     "user": {
      "displayName": "Akanksha Ugale",
      "userId": "02088164551666559591"
     },
     "user_tz": -330
    },
    "id": "iVKL7MrUiSs3",
    "outputId": "fd3849b7-eca8-4a8c-90ef-ce36fd5b0ebd"
   },
   "outputs": [
    {
     "name": "stdout",
     "output_type": "stream",
     "text": [
      "regression Equation: Sales = 6.99 + 0.05 *TV\n"
     ]
    }
   ],
   "source": [
    "print('regression Equation: Sales = 6.99 + 0.05 *TV')"
   ]
  },
  {
   "cell_type": "code",
   "execution_count": 22,
   "metadata": {
    "executionInfo": {
     "elapsed": 3,
     "status": "ok",
     "timestamp": 1666347126141,
     "user": {
      "displayName": "Akanksha Ugale",
      "userId": "02088164551666559591"
     },
     "user_tz": -330
    },
    "id": "IS5EnPTtkdfU"
   },
   "outputs": [],
   "source": [
    "# line of best fit"
   ]
  },
  {
   "cell_type": "code",
   "execution_count": 23,
   "metadata": {
    "colab": {
     "base_uri": "https://localhost:8080/",
     "height": 265
    },
    "executionInfo": {
     "elapsed": 9,
     "status": "ok",
     "timestamp": 1666347127778,
     "user": {
      "displayName": "Akanksha Ugale",
      "userId": "02088164551666559591"
     },
     "user_tz": -330
    },
    "id": "NEB1Ryo7kgCR",
    "outputId": "b909b9f8-69ff-4a8d-e36e-f81593801406"
   },
   "outputs": [
    {
     "data": {
      "image/png": "[encoded data removed]",
      "text/plain": [
       "<Figure size 640x480 with 1 Axes>"
      ]
     },
     "metadata": {},
     "output_type": "display_data"
    }
   ],
   "source": [
    "plt.scatter(x_train,y_train)\n",
    "plt.plot(x_train, 6.99 + 0.05 * x_train,'r')\n",
    "plt.show();"
   ]
  },
  {
   "cell_type": "code",
   "execution_count": 24,
   "metadata": {
    "executionInfo": {
     "elapsed": 3,
     "status": "ok",
     "timestamp": 1666347128308,
     "user": {
      "displayName": "Akanksha Ugale",
      "userId": "02088164551666559591"
     },
     "user_tz": -330
    },
    "id": "CteQVHZ4k1He"
   },
   "outputs": [],
   "source": [
    "# prediction of testand training set result\n",
    "y_pred_slr = slr.predict(x_test)\n",
    "#x_pred_slr = slr.predict(x_train)"
   ]
  },
  {
   "cell_type": "code",
   "execution_count": 25,
   "metadata": {
    "colab": {
     "base_uri": "https://localhost:8080/"
    },
    "executionInfo": {
     "elapsed": 4,
     "status": "ok",
     "timestamp": 1666347130215,
     "user": {
      "displayName": "Akanksha Ugale",
      "userId": "02088164551666559591"
     },
     "user_tz": -330
    },
    "id": "se7t-SGKmolj",
    "outputId": "548e3932-c8aa-4b5b-f9fc-030d2579b6c9"
   },
   "outputs": [
    {
     "name": "stdout",
     "output_type": "stream",
     "text": [
      "prediction for test set: [ 7.41755568 19.88345888 14.31059417 18.77429648 20.07282807 18.18454672\n",
      " 14.5270161  17.68677628 18.70395936 18.72560155 13.33669548 19.41274118\n",
      " 10.03626104 17.15654255 11.713531   12.09226938 15.09512366 16.20428606\n",
      " 15.84177932 13.1040419  18.61198003 13.99678237 17.56774422 16.57220334\n",
      " 16.99963665 18.91497074 18.887918   11.06967576 16.99963665 13.65591783\n",
      " 10.69634793 10.72881122 13.54229631 17.18900584  9.70080705 13.51524357\n",
      " 12.25458583 16.10689619 19.02859225 17.44871216]\n"
     ]
    }
   ],
   "source": [
    "print(\"prediction for test set: {}\".format(y_pred_slr))"
   ]
  },
  {
   "cell_type": "code",
   "execution_count": 26,
   "metadata": {
    "colab": {
     "base_uri": "https://localhost:8080/",
     "height": 1000
    },
    "executionInfo": {
     "elapsed": 821,
     "status": "ok",
     "timestamp": 1666347132611,
     "user": {
      "displayName": "Akanksha Ugale",
      "userId": "02088164551666559591"
     },
     "user_tz": -330
    },
    "id": "1W8kjb6mm5mA",
    "outputId": "a8bc47aa-aec5-4c5d-e461-e34c2429fc68"
   },
   "outputs": [
    {
     "data": {
      "text/html": [
       "<div>\n",
       "<style scoped>\n",
       "    .dataframe tbody tr th:only-of-type {\n",
       "        vertical-align: middle;\n",
       "    }\n",
       "\n",
       "    .dataframe tbody tr th {\n",
       "        vertical-align: top;\n",
       "    }\n",
       "\n",
       "    .dataframe thead th {\n",
       "        text-align: right;\n",
       "    }\n",
       "</style>\n",
       "<table border=\"1\" class=\"dataframe\">\n",
       "  <thead>\n",
       "    <tr style=\"text-align: right;\">\n",
       "      <th></th>\n",
       "      <th>Actual value</th>\n",
       "      <th>Predicted value</th>\n",
       "    </tr>\n",
       "  </thead>\n",
       "  <tbody>\n",
       "    <tr>\n",
       "      <th>126</th>\n",
       "      <td>6.6</td>\n",
       "      <td>7.417556</td>\n",
       "    </tr>\n",
       "    <tr>\n",
       "      <th>104</th>\n",
       "      <td>20.7</td>\n",
       "      <td>19.883459</td>\n",
       "    </tr>\n",
       "    <tr>\n",
       "      <th>99</th>\n",
       "      <td>17.2</td>\n",
       "      <td>14.310594</td>\n",
       "    </tr>\n",
       "    <tr>\n",
       "      <th>92</th>\n",
       "      <td>19.4</td>\n",
       "      <td>18.774296</td>\n",
       "    </tr>\n",
       "    <tr>\n",
       "      <th>111</th>\n",
       "      <td>21.8</td>\n",
       "      <td>20.072828</td>\n",
       "    </tr>\n",
       "    <tr>\n",
       "      <th>167</th>\n",
       "      <td>17.2</td>\n",
       "      <td>18.184547</td>\n",
       "    </tr>\n",
       "    <tr>\n",
       "      <th>116</th>\n",
       "      <td>12.2</td>\n",
       "      <td>14.527016</td>\n",
       "    </tr>\n",
       "    <tr>\n",
       "      <th>96</th>\n",
       "      <td>16.7</td>\n",
       "      <td>17.686776</td>\n",
       "    </tr>\n",
       "    <tr>\n",
       "      <th>52</th>\n",
       "      <td>22.6</td>\n",
       "      <td>18.703959</td>\n",
       "    </tr>\n",
       "    <tr>\n",
       "      <th>69</th>\n",
       "      <td>22.3</td>\n",
       "      <td>18.725602</td>\n",
       "    </tr>\n",
       "    <tr>\n",
       "      <th>164</th>\n",
       "      <td>11.9</td>\n",
       "      <td>13.336695</td>\n",
       "    </tr>\n",
       "    <tr>\n",
       "      <th>124</th>\n",
       "      <td>19.7</td>\n",
       "      <td>19.412741</td>\n",
       "    </tr>\n",
       "    <tr>\n",
       "      <th>182</th>\n",
       "      <td>8.7</td>\n",
       "      <td>10.036261</td>\n",
       "    </tr>\n",
       "    <tr>\n",
       "      <th>154</th>\n",
       "      <td>20.6</td>\n",
       "      <td>17.156543</td>\n",
       "    </tr>\n",
       "    <tr>\n",
       "      <th>125</th>\n",
       "      <td>10.6</td>\n",
       "      <td>11.713531</td>\n",
       "    </tr>\n",
       "    <tr>\n",
       "      <th>196</th>\n",
       "      <td>14.0</td>\n",
       "      <td>12.092269</td>\n",
       "    </tr>\n",
       "    <tr>\n",
       "      <th>194</th>\n",
       "      <td>17.3</td>\n",
       "      <td>15.095124</td>\n",
       "    </tr>\n",
       "    <tr>\n",
       "      <th>177</th>\n",
       "      <td>16.7</td>\n",
       "      <td>16.204286</td>\n",
       "    </tr>\n",
       "    <tr>\n",
       "      <th>163</th>\n",
       "      <td>18.0</td>\n",
       "      <td>15.841779</td>\n",
       "    </tr>\n",
       "    <tr>\n",
       "      <th>31</th>\n",
       "      <td>11.9</td>\n",
       "      <td>13.104042</td>\n",
       "    </tr>\n",
       "    <tr>\n",
       "      <th>11</th>\n",
       "      <td>17.4</td>\n",
       "      <td>18.611980</td>\n",
       "    </tr>\n",
       "    <tr>\n",
       "      <th>73</th>\n",
       "      <td>11.0</td>\n",
       "      <td>13.996782</td>\n",
       "    </tr>\n",
       "    <tr>\n",
       "      <th>15</th>\n",
       "      <td>22.4</td>\n",
       "      <td>17.567744</td>\n",
       "    </tr>\n",
       "    <tr>\n",
       "      <th>41</th>\n",
       "      <td>17.1</td>\n",
       "      <td>16.572203</td>\n",
       "    </tr>\n",
       "    <tr>\n",
       "      <th>97</th>\n",
       "      <td>20.5</td>\n",
       "      <td>16.999637</td>\n",
       "    </tr>\n",
       "    <tr>\n",
       "      <th>128</th>\n",
       "      <td>24.7</td>\n",
       "      <td>18.914971</td>\n",
       "    </tr>\n",
       "    <tr>\n",
       "      <th>133</th>\n",
       "      <td>19.6</td>\n",
       "      <td>18.887918</td>\n",
       "    </tr>\n",
       "    <tr>\n",
       "      <th>82</th>\n",
       "      <td>11.3</td>\n",
       "      <td>11.069676</td>\n",
       "    </tr>\n",
       "    <tr>\n",
       "      <th>139</th>\n",
       "      <td>20.7</td>\n",
       "      <td>16.999637</td>\n",
       "    </tr>\n",
       "    <tr>\n",
       "      <th>123</th>\n",
       "      <td>15.2</td>\n",
       "      <td>13.655918</td>\n",
       "    </tr>\n",
       "    <tr>\n",
       "      <th>83</th>\n",
       "      <td>13.6</td>\n",
       "      <td>10.696348</td>\n",
       "    </tr>\n",
       "    <tr>\n",
       "      <th>65</th>\n",
       "      <td>11.3</td>\n",
       "      <td>10.728811</td>\n",
       "    </tr>\n",
       "    <tr>\n",
       "      <th>151</th>\n",
       "      <td>11.6</td>\n",
       "      <td>13.542296</td>\n",
       "    </tr>\n",
       "    <tr>\n",
       "      <th>162</th>\n",
       "      <td>19.9</td>\n",
       "      <td>17.189006</td>\n",
       "    </tr>\n",
       "    <tr>\n",
       "      <th>170</th>\n",
       "      <td>8.4</td>\n",
       "      <td>9.700807</td>\n",
       "    </tr>\n",
       "    <tr>\n",
       "      <th>77</th>\n",
       "      <td>14.2</td>\n",
       "      <td>13.515244</td>\n",
       "    </tr>\n",
       "    <tr>\n",
       "      <th>32</th>\n",
       "      <td>13.2</td>\n",
       "      <td>12.254586</td>\n",
       "    </tr>\n",
       "    <tr>\n",
       "      <th>173</th>\n",
       "      <td>16.7</td>\n",
       "      <td>16.106896</td>\n",
       "    </tr>\n",
       "    <tr>\n",
       "      <th>174</th>\n",
       "      <td>16.5</td>\n",
       "      <td>19.028592</td>\n",
       "    </tr>\n",
       "    <tr>\n",
       "      <th>85</th>\n",
       "      <td>20.2</td>\n",
       "      <td>17.448712</td>\n",
       "    </tr>\n",
       "  </tbody>\n",
       "</table>\n",
       "</div>"
      ],
      "text/plain": [
       "     Actual value  Predicted value\n",
       "126           6.6         7.417556\n",
       "104          20.7        19.883459\n",
       "99           17.2        14.310594\n",
       "92           19.4        18.774296\n",
       "111          21.8        20.072828\n",
       "167          17.2        18.184547\n",
       "116          12.2        14.527016\n",
       "96           16.7        17.686776\n",
       "52           22.6        18.703959\n",
       "69           22.3        18.725602\n",
       "164          11.9        13.336695\n",
       "124          19.7        19.412741\n",
       "182           8.7        10.036261\n",
       "154          20.6        17.156543\n",
       "125          10.6        11.713531\n",
       "196          14.0        12.092269\n",
       "194          17.3        15.095124\n",
       "177          16.7        16.204286\n",
       "163          18.0        15.841779\n",
       "31           11.9        13.104042\n",
       "11           17.4        18.611980\n",
       "73           11.0        13.996782\n",
       "15           22.4        17.567744\n",
       "41           17.1        16.572203\n",
       "97           20.5        16.999637\n",
       "128          24.7        18.914971\n",
       "133          19.6        18.887918\n",
       "82           11.3        11.069676\n",
       "139          20.7        16.999637\n",
       "123          15.2        13.655918\n",
       "83           13.6        10.696348\n",
       "65           11.3        10.728811\n",
       "151          11.6        13.542296\n",
       "162          19.9        17.189006\n",
       "170           8.4         9.700807\n",
       "77           14.2        13.515244\n",
       "32           13.2        12.254586\n",
       "173          16.7        16.106896\n",
       "174          16.5        19.028592\n",
       "85           20.2        17.448712"
      ]
     },
     "execution_count": 26,
     "metadata": {},
     "output_type": "execute_result"
    }
   ],
   "source": [
    "# actual value and the predicted value\n",
    "slr_diff = pd.DataFrame({'Actual value': y_test, 'Predicted value': y_pred_slr})\n",
    "slr_diff "
   ]
  },
  {
   "cell_type": "code",
   "execution_count": 27,
   "metadata": {
    "colab": {
     "base_uri": "https://localhost:8080/"
    },
    "executionInfo": {
     "elapsed": 10,
     "status": "ok",
     "timestamp": 1666347132976,
     "user": {
      "displayName": "Akanksha Ugale",
      "userId": "02088164551666559591"
     },
     "user_tz": -330
    },
    "id": "9JadR9IcuZg8",
    "outputId": "20c7adcb-91ec-4ba4-f5b9-049d29a995f6"
   },
   "outputs": [
    {
     "name": "stderr",
     "output_type": "stream",
     "text": [
      "C:\\Users\\Admin\\anaconda3\\lib\\site-packages\\sklearn\\base.py:450: UserWarning: X does not have valid feature names, but LinearRegression was fitted with feature names\n",
      "  warnings.warn(\n"
     ]
    },
    {
     "data": {
      "text/plain": [
       "array([10.02543994])"
      ]
     },
     "execution_count": 27,
     "metadata": {},
     "output_type": "execute_result"
    }
   ],
   "source": [
    "#Predict for any value\n",
    "slr.predict([[56]])"
   ]
  },
  {
   "cell_type": "code",
   "execution_count": 28,
   "metadata": {
    "colab": {
     "base_uri": "https://localhost:8080/"
    },
    "executionInfo": {
     "elapsed": 9,
     "status": "ok",
     "timestamp": 1666347134067,
     "user": {
      "displayName": "Akanksha Ugale",
      "userId": "02088164551666559591"
     },
     "user_tz": -330
    },
    "id": "IVgaYAsNsvZg",
    "outputId": "48611c69-20eb-4b06-9b77-87c2a37a92b5"
   },
   "outputs": [
    {
     "name": "stdout",
     "output_type": "stream",
     "text": [
      "Training = 0.8216142794949134 testing = 0.7281352744078883\n"
     ]
    }
   ],
   "source": [
    "from sklearn.metrics import r2_score\n",
    "y_test_pred = slr.predict(x_test)\n",
    "\n",
    "y_train_pred = slr.predict(x_train)\n",
    "a = r2_score(y_train,y_train_pred)\n",
    "b = r2_score(y_test,y_test_pred)\n",
    "print('Training = {} testing = {}'.format(a,b))"
   ]
  },
  {
   "cell_type": "markdown",
   "metadata": {
    "id": "zrnhxbLQvFVm"
   },
   "source": [
    "Conclusion : 82.16% of the data fir the regression model"
   ]
  },
  {
   "cell_type": "markdown",
   "metadata": {
    "id": "VN08nniLu6Ra"
   },
   "source": [
    "There is never 100% training or 100% testing"
   ]
  },
  {
   "cell_type": "code",
   "execution_count": 29,
   "metadata": {
    "id": "rW3X53pJtR6R"
   },
   "outputs": [],
   "source": [
    "# 0 means the model is perfect. therefore the value should be as close to 0 as possible"
   ]
  },
  {
   "cell_type": "code",
   "execution_count": 30,
   "metadata": {
    "colab": {
     "base_uri": "https://localhost:8080/"
    },
    "executionInfo": {
     "elapsed": 352,
     "status": "ok",
     "timestamp": 1666347145061,
     "user": {
      "displayName": "Akanksha Ugale",
      "userId": "02088164551666559591"
     },
     "user_tz": -330
    },
    "id": "ReKV3X6vvBA5",
    "outputId": "517ff9c3-e210-4d06-cc20-db0a2fcbf9bc"
   },
   "outputs": [
    {
     "name": "stdout",
     "output_type": "stream",
     "text": [
      "Mean Absolute Error: 1.905152391298234\n",
      "mean Squared Error: 5.34850349246385\n",
      "Root Mean Squared Error: 2.312683180304611\n"
     ]
    }
   ],
   "source": [
    "meanAbErr = metrics.mean_absolute_error(y_test,y_test_pred)\n",
    "meanSqerr = metrics.mean_squared_error(y_test,y_test_pred)\n",
    "rootMeanSqErr = np.sqrt(meanSqerr)\n",
    "print('Mean Absolute Error:',meanAbErr)\n",
    "print('mean Squared Error:',meanSqerr)\n",
    "print('Root Mean Squared Error:',rootMeanSqErr)"
   ]
  },
  {
   "cell_type": "markdown",
   "metadata": {
    "id": "GrL98uY88h2s"
   },
   "source": [
    "# Multiple Linear Regression"
   ]
  },
  {
   "cell_type": "code",
   "execution_count": 31,
   "metadata": {
    "executionInfo": {
     "elapsed": 10,
     "status": "ok",
     "timestamp": 1666347145638,
     "user": {
      "displayName": "Akanksha Ugale",
      "userId": "02088164551666559591"
     },
     "user_tz": -330
    },
    "id": "Ar-Crtjw6WIk"
   },
   "outputs": [],
   "source": [
    "# setting the x and y value\n",
    "x = sales[['TV','Radio','Newspaper']]\n",
    "y = sales['Sales']"
   ]
  },
  {
   "cell_type": "code",
   "execution_count": 32,
   "metadata": {
    "executionInfo": {
     "elapsed": 10,
     "status": "ok",
     "timestamp": 1666347145640,
     "user": {
      "displayName": "Akanksha Ugale",
      "userId": "02088164551666559591"
     },
     "user_tz": -330
    },
    "id": "ePhyz-Zt8xg8"
   },
   "outputs": [],
   "source": [
    "#Step 2: bifurcation of data into train and test data\n",
    "x_train,x_test,y_train,y_test = train_test_split(x,y,train_size=0.8,random_state=100)"
   ]
  },
  {
   "cell_type": "code",
   "execution_count": 33,
   "metadata": {
    "colab": {
     "base_uri": "https://localhost:8080/"
    },
    "executionInfo": {
     "elapsed": 12,
     "status": "ok",
     "timestamp": 1666347146120,
     "user": {
      "displayName": "Akanksha Ugale",
      "userId": "02088164551666559591"
     },
     "user_tz": -330
    },
    "id": "tpAMDavN85kQ",
    "outputId": "6c691b2f-6aa7-4d0a-94f1-213543726347"
   },
   "outputs": [
    {
     "data": {
      "text/plain": [
       "LinearRegression()"
      ]
     },
     "execution_count": 33,
     "metadata": {},
     "output_type": "execute_result"
    }
   ],
   "source": [
    "mlr = LinearRegression()\n",
    "mlr.fit(x_train,y_train)"
   ]
  },
  {
   "cell_type": "code",
   "execution_count": 34,
   "metadata": {
    "colab": {
     "base_uri": "https://localhost:8080/"
    },
    "executionInfo": {
     "elapsed": 7,
     "status": "ok",
     "timestamp": 1666347146821,
     "user": {
      "displayName": "Akanksha Ugale",
      "userId": "02088164551666559591"
     },
     "user_tz": -330
    },
    "id": "lJmPEgmY9Bp7",
    "outputId": "49099234-91a5-4c3a-f98e-47147f52597a"
   },
   "outputs": [
    {
     "name": "stdout",
     "output_type": "stream",
     "text": [
      "Intercept: 4.419176628968954\n",
      "Coefficient: [0.05373662 0.1061416  0.00542157]\n"
     ]
    }
   ],
   "source": [
    "# Printing the model coefficients\n",
    "print('Intercept:',mlr.intercept_)\n",
    "print('Coefficient:',mlr.coef_)"
   ]
  },
  {
   "cell_type": "code",
   "execution_count": 35,
   "metadata": {
    "executionInfo": {
     "elapsed": 38,
     "status": "ok",
     "timestamp": 1666347147774,
     "user": {
      "displayName": "Akanksha Ugale",
      "userId": "02088164551666559591"
     },
     "user_tz": -330
    },
    "id": "RE4Pwccg9kxz"
   },
   "outputs": [],
   "source": [
    "y_pred_mlr = mlr.predict(x_test)"
   ]
  },
  {
   "cell_type": "code",
   "execution_count": 36,
   "metadata": {
    "colab": {
     "base_uri": "https://localhost:8080/"
    },
    "executionInfo": {
     "elapsed": 38,
     "status": "ok",
     "timestamp": 1666347147776,
     "user": {
      "displayName": "Akanksha Ugale",
      "userId": "02088164551666559591"
     },
     "user_tz": -330
    },
    "id": "pxXJkjY4-Lon",
    "outputId": "ce1965b0-b076-42d7-a712-5a50664a3c2f"
   },
   "outputs": [
    {
     "data": {
      "text/plain": [
       "array([ 9.24156185, 20.88863168, 16.35932288, 19.99325582, 21.56647985,\n",
       "       16.18902526, 13.55593173, 15.44101643, 20.68858089, 20.87635961,\n",
       "       12.30666696, 20.5823859 ,  8.2052026 , 16.8020073 , 10.49789975,\n",
       "       10.04517517, 16.27471961, 14.58389375, 17.15124514, 12.54217786,\n",
       "       18.5255145 , 12.14739801, 20.26906823, 17.68550321, 16.70332653,\n",
       "       21.47564231, 20.03074293, 10.79641986, 19.02391131, 14.77388184,\n",
       "       13.01107071,  9.11899998, 12.07692797, 16.60311172,  8.43700724,\n",
       "       13.99646169,  9.96423595, 14.29142558, 16.80210584, 17.11029489])"
      ]
     },
     "execution_count": 36,
     "metadata": {},
     "output_type": "execute_result"
    }
   ],
   "source": [
    "y_pred_mlr"
   ]
  },
  {
   "cell_type": "code",
   "execution_count": 37,
   "metadata": {
    "colab": {
     "base_uri": "https://localhost:8080/"
    },
    "executionInfo": {
     "elapsed": 508,
     "status": "ok",
     "timestamp": 1666348585156,
     "user": {
      "displayName": "Akanksha Ugale",
      "userId": "02088164551666559591"
     },
     "user_tz": -330
    },
    "id": "hP9vXqg-HYQW",
    "outputId": "f927d6c2-6df3-41c8-9d52-c6b3f835acd4"
   },
   "outputs": [
    {
     "name": "stdout",
     "output_type": "stream",
     "text": [
      "Intercept: 4.419176628968954\n",
      "Coefficient: [0.05373662 0.1061416  0.00542157]\n"
     ]
    }
   ],
   "source": [
    "print('Intercept:',mlr.intercept_)\n",
    "print('Coefficient:',mlr.coef_)"
   ]
  },
  {
   "cell_type": "code",
   "execution_count": 38,
   "metadata": {
    "colab": {
     "base_uri": "https://localhost:8080/"
    },
    "executionInfo": {
     "elapsed": 6,
     "status": "ok",
     "timestamp": 1666347148146,
     "user": {
      "displayName": "Akanksha Ugale",
      "userId": "02088164551666559591"
     },
     "user_tz": -330
    },
    "id": "096TGD3e-Tn0",
    "outputId": "41f9730f-2e8a-4d18-d7a0-b4822c1bcca5"
   },
   "outputs": [
    {
     "name": "stderr",
     "output_type": "stream",
     "text": [
      "C:\\Users\\Admin\\anaconda3\\lib\\site-packages\\sklearn\\base.py:450: UserWarning: X does not have valid feature names, but LinearRegression was fitted with feature names\n",
      "  warnings.warn(\n"
     ]
    },
    {
     "data": {
      "text/plain": [
       "array([13.6294606])"
      ]
     },
     "execution_count": 38,
     "metadata": {},
     "output_type": "execute_result"
    }
   ],
   "source": [
    "# predict for any value\n",
    "mlr.predict([[56,55,67]])"
   ]
  },
  {
   "cell_type": "code",
   "execution_count": 39,
   "metadata": {
    "colab": {
     "base_uri": "https://localhost:8080/"
    },
    "executionInfo": {
     "elapsed": 6,
     "status": "ok",
     "timestamp": 1666347149000,
     "user": {
      "displayName": "Akanksha Ugale",
      "userId": "02088164551666559591"
     },
     "user_tz": -330
    },
    "id": "6RXYDRzN-YO2",
    "outputId": "25f8c4a5-36fa-42ae-ec61-d6b18c33dcb3"
   },
   "outputs": [
    {
     "name": "stdout",
     "output_type": "stream",
     "text": [
      "Training = 0.9114914479108845 testing = 0.8296690596780839\n"
     ]
    }
   ],
   "source": [
    "from sklearn.metrics import r2_score\n",
    "y_test_pred = mlr.predict(x_test)\n",
    "\n",
    "y_train_pred = mlr.predict(x_train)\n",
    "a = r2_score(y_train,y_train_pred)\n",
    "b = r2_score(y_test,y_test_pred)\n",
    "print('Training = {} testing = {}'.format(a,b))"
   ]
  },
  {
   "cell_type": "markdown",
   "metadata": {
    "id": "Phzq7l1CCQLj"
   },
   "source": [
    "# Standardization"
   ]
  },
  {
   "cell_type": "code",
   "execution_count": 40,
   "metadata": {
    "executionInfo": {
     "elapsed": 370,
     "status": "ok",
     "timestamp": 1666348941423,
     "user": {
      "displayName": "Akanksha Ugale",
      "userId": "02088164551666559591"
     },
     "user_tz": -330
    },
    "id": "RCQvNC8cUWYU"
   },
   "outputs": [],
   "source": [
    "# setting the x and y value\n",
    "x = sales[['TV','Radio','Newspaper']]\n",
    "y = sales['Sales']"
   ]
  },
  {
   "cell_type": "code",
   "execution_count": 41,
   "metadata": {
    "executionInfo": {
     "elapsed": 663,
     "status": "ok",
     "timestamp": 1666348944993,
     "user": {
      "displayName": "Akanksha Ugale",
      "userId": "02088164551666559591"
     },
     "user_tz": -330
    },
    "id": "p3t88WeT-yYG"
   },
   "outputs": [],
   "source": [
    "from sklearn.preprocessing import StandardScaler\n",
    "# define min max scaler\n",
    "scaler = StandardScaler()\n",
    "# transform data\n",
    "scaled = scaler.fit_transform(x)"
   ]
  },
  {
   "cell_type": "code",
   "execution_count": 42,
   "metadata": {
    "executionInfo": {
     "elapsed": 13,
     "status": "ok",
     "timestamp": 1666348946489,
     "user": {
      "displayName": "Akanksha Ugale",
      "userId": "02088164551666559591"
     },
     "user_tz": -330
    },
    "id": "rnQtUADnCydU"
   },
   "outputs": [],
   "source": [
    "from sklearn.model_selection import train_test_split\n",
    "X_train,X_test,y_train,y_test = train_test_split(scaled,y,test_size=0.2,random_state=42)"
   ]
  },
  {
   "cell_type": "code",
   "execution_count": 52,
   "metadata": {
    "executionInfo": {
     "elapsed": 4,
     "status": "ok",
     "timestamp": 1666348948061,
     "user": {
      "displayName": "Akanksha Ugale",
      "userId": "02088164551666559591"
     },
     "user_tz": -330
    },
    "id": "IYbwvTYiDIBh"
   },
   "outputs": [
    {
     "name": "stdout",
     "output_type": "stream",
     "text": [
      "R score 0.9001416005862131\n"
     ]
    }
   ],
   "source": [
    "from sklearn.linear_model import LinearRegression\n",
    "reg = LinearRegression().fit(X_train, y_train)\n",
    "Reg_predict=reg.predict(X_test)\n",
    "reg_train_pred = reg.predict(X_train)\n",
    "print(\"R score\",metrics.r2_score(y_train,reg_train_pred))"
   ]
  },
  {
   "cell_type": "code",
   "execution_count": 53,
   "metadata": {
    "colab": {
     "base_uri": "https://localhost:8080/"
    },
    "executionInfo": {
     "elapsed": 9,
     "status": "ok",
     "timestamp": 1666348949435,
     "user": {
      "displayName": "Akanksha Ugale",
      "userId": "02088164551666559591"
     },
     "user_tz": -330
    },
    "id": "Whr7hTC1DMSf",
    "outputId": "d7d2b5a6-3ecc-4434-af9b-8f7880a77a83"
   },
   "outputs": [
    {
     "name": "stdout",
     "output_type": "stream",
     "text": [
      "R score 0.9059011844150826\n",
      "MSE =  2.907756910271092\n"
     ]
    }
   ],
   "source": [
    "from sklearn import metrics\n",
    "print(\"R score\",metrics.r2_score(y_test,Reg_predict))\n",
    "print(\"MSE = \", metrics.mean_squared_error(y_test,Reg_predict))"
   ]
  },
  {
   "cell_type": "markdown",
   "metadata": {
    "id": "br8Jkm4WDenQ"
   },
   "source": [
    "# L1 Lasso (L1 Regularized) Regression Model"
   ]
  },
  {
   "cell_type": "code",
   "execution_count": 54,
   "metadata": {
    "colab": {
     "base_uri": "https://localhost:8080/"
    },
    "executionInfo": {
     "elapsed": 8,
     "status": "ok",
     "timestamp": 1666348956617,
     "user": {
      "displayName": "Akanksha Ugale",
      "userId": "02088164551666559591"
     },
     "user_tz": -330
    },
    "id": "7_vsDAxTDUhW",
    "outputId": "4b233c4d-21e7-45ee-c5b2-79b4d5591cee"
   },
   "outputs": [
    {
     "data": {
      "text/plain": [
       "Lasso()"
      ]
     },
     "execution_count": 54,
     "metadata": {},
     "output_type": "execute_result"
    }
   ],
   "source": [
    "from sklearn import linear_model\n",
    "lasso_reg = linear_model.Lasso()\n",
    "lasso_reg.fit(X_train, y_train)"
   ]
  },
  {
   "cell_type": "code",
   "execution_count": 55,
   "metadata": {
    "colab": {
     "base_uri": "https://localhost:8080/"
    },
    "executionInfo": {
     "elapsed": 6,
     "status": "ok",
     "timestamp": 1666348957043,
     "user": {
      "displayName": "Akanksha Ugale",
      "userId": "02088164551666559591"
     },
     "user_tz": -330
    },
    "id": "BuhFQUlVDzUp",
    "outputId": "2cea995f-41b6-4111-ed10-d4b26edbcaf1"
   },
   "outputs": [
    {
     "data": {
      "text/plain": [
       "0.8206482018986152"
      ]
     },
     "execution_count": 55,
     "metadata": {},
     "output_type": "execute_result"
    }
   ],
   "source": [
    "lasso_reg.score(X_test,y_test)"
   ]
  },
  {
   "cell_type": "code",
   "execution_count": 56,
   "metadata": {
    "colab": {
     "base_uri": "https://localhost:8080/"
    },
    "executionInfo": {
     "elapsed": 5,
     "status": "ok",
     "timestamp": 1666348958099,
     "user": {
      "displayName": "Akanksha Ugale",
      "userId": "02088164551666559591"
     },
     "user_tz": -330
    },
    "id": "ynpfno0SEOXS",
    "outputId": "68355c42-cf2e-49fc-f113-3103b04e5f39"
   },
   "outputs": [
    {
     "data": {
      "text/plain": [
       "0.8275781786615899"
      ]
     },
     "execution_count": 56,
     "metadata": {},
     "output_type": "execute_result"
    }
   ],
   "source": [
    "lasso_reg.score(X_train,y_train)"
   ]
  },
  {
   "cell_type": "markdown",
   "metadata": {
    "id": "SzMRs0onEb7d"
   },
   "source": [
    "# Using Ridge (L2 Regularized) Regression Model"
   ]
  },
  {
   "cell_type": "code",
   "execution_count": 57,
   "metadata": {
    "colab": {
     "base_uri": "https://localhost:8080/"
    },
    "executionInfo": {
     "elapsed": 382,
     "status": "ok",
     "timestamp": 1666347880440,
     "user": {
      "displayName": "Akanksha Ugale",
      "userId": "02088164551666559591"
     },
     "user_tz": -330
    },
    "id": "91WqLkiAEX0N",
    "outputId": "3eded0fd-85db-4c8d-8038-0367e778c2a5"
   },
   "outputs": [
    {
     "data": {
      "text/plain": [
       "Ridge(alpha=50, max_iter=100, tol=0.1)"
      ]
     },
     "execution_count": 57,
     "metadata": {},
     "output_type": "execute_result"
    }
   ],
   "source": [
    "from sklearn.linear_model import Ridge\n",
    "ridge_reg= Ridge(alpha=50, max_iter=100, tol=0.1)\n",
    "ridge_reg.fit(X_train, y_train)"
   ]
  },
  {
   "cell_type": "code",
   "execution_count": 58,
   "metadata": {
    "colab": {
     "base_uri": "https://localhost:8080/"
    },
    "executionInfo": {
     "elapsed": 408,
     "status": "ok",
     "timestamp": 1666347918947,
     "user": {
      "displayName": "Akanksha Ugale",
      "userId": "02088164551666559591"
     },
     "user_tz": -330
    },
    "id": "CXF5gYEBEiS2",
    "outputId": "d57cc1e4-befc-4144-f12c-c23e0a7d6d9d"
   },
   "outputs": [
    {
     "data": {
      "text/plain": [
       "0.8481929801935719"
      ]
     },
     "execution_count": 58,
     "metadata": {},
     "output_type": "execute_result"
    }
   ],
   "source": [
    "ridge_reg.score(X_test, y_test)"
   ]
  },
  {
   "cell_type": "code",
   "execution_count": 59,
   "metadata": {
    "colab": {
     "base_uri": "https://localhost:8080/"
    },
    "executionInfo": {
     "elapsed": 405,
     "status": "ok",
     "timestamp": 1666347960244,
     "user": {
      "displayName": "Akanksha Ugale",
      "userId": "02088164551666559591"
     },
     "user_tz": -330
    },
    "id": "OaWPrxpIE18m",
    "outputId": "c89d48bb-22bd-4c74-9d5a-77bb6dbdf4a0"
   },
   "outputs": [
    {
     "data": {
      "text/plain": [
       "0.8492031910767446"
      ]
     },
     "execution_count": 59,
     "metadata": {},
     "output_type": "execute_result"
    }
   ],
   "source": [
    "ridge_reg.score(X_train,y_train)"
   ]
  },
  {
   "cell_type": "markdown",
   "metadata": {
    "id": "mLp6bZWIFAJh"
   },
   "source": [
    "## Using Ridge Regression we have got 84.92 score for training and 84.81 score for testing"
   ]
  },
  {
   "cell_type": "code",
   "execution_count": null,
   "metadata": {},
   "outputs": [],
   "source": []
  }
 ],
 "metadata": {
  "colab": {
   "authorship_tag": "ABX9TyPBdP7P8Zv5sa/N6+dzK60U",
   "provenance": []
  },
  "kernelspec": {
   "display_name": "Python 3 (ipykernel)",
   "language": "python",
   "name": "python3"
  },
  "language_info": {
   "codemirror_mode": {
    "name": "ipython",
    "version": 3
   },
   "file_extension": ".py",
   "mimetype": "text/x-python",
   "name": "python",
   "nbconvert_exporter": "python",
   "pygments_lexer": "ipython3",
   "version": "3.9.13"
  }
 },
 "nbformat": 4,
 "nbformat_minor": 4
}
